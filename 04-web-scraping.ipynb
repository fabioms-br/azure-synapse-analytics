{
  "nbformat": 4,
  "nbformat_minor": 2,
  "metadata": {
    "kernelspec": {
      "name": "synapse_pyspark",
      "display_name": "Synapse PySpark"
    },
    "language_info": {
      "name": "python"
    },
    "save_output": true,
    "synapse_widget": {
      "version": "0.1",
      "state": {}
    }
  },
  "cells": [
    {
      "cell_type": "markdown",
      "metadata": {
        "nteract": {
          "transient": {
            "deleting": false
          }
        }
      },
      "source": [
        "# Identificar os pacotes   "
      ]
    },
    {
      "cell_type": "code",
      "execution_count": 10,
      "outputs": [],
      "metadata": {},
      "source": [
        "#identificar os pacotes\r\n",
        "import pkg_resources\r\n",
        "for nome in pkg_resources.working_set:\r\n",
        "     print(nome)"
      ]
    },
    {
      "cell_type": "markdown",
      "metadata": {
        "nteract": {
          "transient": {
            "deleting": false
          }
        }
      },
      "source": [
        "# Importar pacotes"
      ]
    },
    {
      "cell_type": "code",
      "execution_count": 11,
      "outputs": [],
      "metadata": {
        "jupyter": {
          "source_hidden": false,
          "outputs_hidden": false
        },
        "nteract": {
          "transient": {
            "deleting": false
          }
        }
      },
      "source": [
        "import pandas as pd                  # importar para criar o dataframe\r\n",
        "import requests                      # importar para consulta web\r\n",
        "from bs4 import BeautifulSoup as bs  # importar para ler html"
      ]
    },
    {
      "cell_type": "markdown",
      "metadata": {
        "nteract": {
          "transient": {
            "deleting": false
          }
        }
      },
      "source": [
        "# Ler página html"
      ]
    },
    {
      "cell_type": "code",
      "execution_count": 12,
      "outputs": [],
      "metadata": {
        "jupyter": {
          "source_hidden": false,
          "outputs_hidden": false
        },
        "nteract": {
          "transient": {
            "deleting": false
          }
        }
      },
      "source": [
        "url = \"https://www.macrotrends.net/stocks/charts/MSFT/microsoft/stock-price-history\"\r\n",
        "html_data = requests.get(url).text  # consulta para a página de internet\r\n",
        "beautiful_soup = bs(html_data, \"html5lib\")  # ler e converter html em objetos"
      ]
    },
    {
      "cell_type": "markdown",
      "metadata": {
        "nteract": {
          "transient": {
            "deleting": false
          }
        }
      },
      "source": [
        "# Identificar tabela de dados"
      ]
    },
    {
      "cell_type": "code",
      "execution_count": 13,
      "outputs": [],
      "metadata": {
        "jupyter": {
          "source_hidden": false,
          "outputs_hidden": false
        },
        "nteract": {
          "transient": {
            "deleting": false
          }
        }
      },
      "source": [
        "tabelas = beautiful_soup.find_all(\"table\")\r\n",
        "\r\n",
        "for id, tabela in enumerate(tabelas):\r\n",
        "    if (\"Historical Annual Stock Price Data\" in str(tabela)):\r\n",
        "        tabela_id = id      # obter o índice da tabela"
      ]
    },
    {
      "cell_type": "markdown",
      "metadata": {
        "nteract": {
          "transient": {
            "deleting": false
          }
        }
      },
      "source": [
        "# Criar Dataframe"
      ]
    },
    {
      "cell_type": "code",
      "execution_count": 14,
      "outputs": [],
      "metadata": {
        "jupyter": {
          "source_hidden": false,
          "outputs_hidden": false
        },
        "nteract": {
          "transient": {
            "deleting": false
          }
        }
      },
      "source": [
        "table_data = pd.DataFrame(columns=[\"Ticker\",\"Year\", \"Average\", \"Open\", \"High\", \"Low\", \"Close\" ]) #Inserir colunas no dataframe"
      ]
    },
    {
      "cell_type": "markdown",
      "metadata": {
        "nteract": {
          "transient": {
            "deleting": false
          }
        }
      },
      "source": [
        "# Inserir registros no Dataframe"
      ]
    },
    {
      "cell_type": "code",
      "execution_count": 15,
      "outputs": [],
      "metadata": {
        "jupyter": {
          "source_hidden": false,
          "outputs_hidden": false
        },
        "nteract": {
          "transient": {
            "deleting": false
          }
        }
      },
      "source": [
        "for linha in tabelas[tabela_id].tbody.find_all(\"tr\"):\r\n",
        "    coluna = linha.find_all(\"td\")\r\n",
        "    if (coluna !=[]):\r\n",
        "        year = coluna[0].text\r\n",
        "        average = coluna[1].text\r\n",
        "        open = coluna[2].text\r\n",
        "        high = coluna[3].text\r\n",
        "        low = coluna[4].text\r\n",
        "        close = coluna[5].text\r\n",
        "\r\n",
        "        table_data = table_data.append(\\\r\n",
        "        {\"Ticker\": \"MSFT\" ,\\\r\n",
        "        \"Year\" : year, \\\r\n",
        "        \"Average\" : average, \\\r\n",
        "        \"Open\" : open, \\\r\n",
        "        \"High\" : high, \\\r\n",
        "        \"Low\" : low, \\\r\n",
        "        \"Close\" : close}, ignore_index=True)"
      ]
    },
    {
      "cell_type": "markdown",
      "metadata": {
        "nteract": {
          "transient": {
            "deleting": false
          }
        }
      },
      "source": [
        "# Visualizar os Dados"
      ]
    },
    {
      "cell_type": "code",
      "execution_count": 16,
      "outputs": [],
      "metadata": {
        "jupyter": {
          "source_hidden": false,
          "outputs_hidden": false
        },
        "nteract": {
          "transient": {
            "deleting": false
          }
        }
      },
      "source": [
        "table_data"
      ]
    },
    {
      "cell_type": "markdown",
      "metadata": {
        "nteract": {
          "transient": {
            "deleting": false
          }
        }
      },
      "source": [
        "# Salvar em Arquivo Parquet"
      ]
    },
    {
      "cell_type": "code",
      "execution_count": 17,
      "outputs": [],
      "metadata": {
        "jupyter": {
          "source_hidden": false,
          "outputs_hidden": false
        },
        "nteract": {
          "transient": {
            "deleting": false
          }
        }
      },
      "source": [
        "table_data.to_parquet('abfss://fabiomsfilesys@fabiomsdatalake.dfs.core.windows.net/webscraping/cotacoes.parquet')"
      ]
    }
  ]
}